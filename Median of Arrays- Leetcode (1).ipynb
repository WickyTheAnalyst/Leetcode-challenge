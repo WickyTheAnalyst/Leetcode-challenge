{
 "cells": [
  {
   "cell_type": "markdown",
   "id": "388a83de-e065-4822-80c8-ccb2dcade4ca",
   "metadata": {
    "tags": []
   },
   "source": [
    "# Finding the Median of Two Sorted Arrays\n",
    "\n",
    "## Problem Statement\n",
    "\n",
    "The task is to find the median of two sorted arrays. The median is the value that separates a dataset into two halves. For a combined dataset of both arrays, if the total number of elements is odd, the median is the middle element. If the total number of elements is even, the median is the average of the two middle elements.\n",
    "\n",
    "## Challenges\n",
    "\n",
    "A straightforward solution would be to merge the two arrays and then find the median. However, this approach takes O(m+n) time, where `m` and `n` are the lengths of the arrays, respectively. The problem requires a more efficient solution with a time complexity of O(log(min(m,n))).\n",
    "\n",
    "## Solution Strategy\n",
    "\n",
    "The key to an efficient solution is to avoid merging the arrays. Instead, we perform a binary search to find a partition point between the arrays that divides the combined dataset into two equal halves. At this partition, the following conditions must be met:\n",
    "\n",
    "- The maximum element on the left side of the partition is less than or equal to the minimum element on the right side.\n",
    "- The number of elements on the left side is equal to or one more than the number of elements on the right side (to handle both odd and even total lengths).\n",
    "\n",
    "### Binary Search Algorithm:\n",
    "\n",
    "1. Choose the smaller array to perform a binary search.\n",
    "2. Find a partition in the smaller array such that the left half of the combined arrays is equal to the right half.\n",
    "3. Ensure that the elements on the left and right of the partition satisfy the median conditions.\n",
    "4. Adjust the partition using binary search until the conditions are met.\n",
    "5. Calculate the median from the elements around the partition.\n",
    "\n",
    "## Code Implementation\n",
    "\n",
    "The code implementation will involve a `Solution` class with a method `findMedianSortedArrays` that takes two sorted arrays as input and returns their median as a float.\n",
    "\n",
    "Below is the detailed code including this theoretical overview in the comments:\n"
   ]
  },
  {
   "cell_type": "code",
   "execution_count": 14,
   "id": "f2c8d44a-3e6a-4196-988c-29ded0eba9d9",
   "metadata": {
    "tags": []
   },
   "outputs": [],
   "source": [
    "from typing import List\n",
    "\n",
    "class Solution:\n",
    "    def findMedianSortedArrays(self, nums1: List[int], nums2: List[int]) -> float:\n",
    "        \"\"\"\n",
    "        Finds the median of two sorted arrays.\n",
    "        \n",
    "        The overall run time complexity should be O(log(m+n)), where m and n\n",
    "        are the sizes of the two arrays. This is achieved by performing a binary\n",
    "        search on the smaller of the two arrays to find the correct partition point.\n",
    "\n",
    "        Args:\n",
    "        nums1 (List[int]): The first sorted array.\n",
    "        nums2 (List[int]): The second sorted array.\n",
    "\n",
    "        Returns:\n",
    "        float: The median of the two sorted arrays.\n",
    "\n",
    "        Raises:\n",
    "        ValueError: If the input arrays are not sorted as expected.\n",
    "        \n",
    "        Theoretical Overview:\n",
    "        1. Perform binary search on the smaller array to minimize iterations.\n",
    "        2. Determine the partition point that divides the combined arrays into two equal halves.\n",
    "        3. Ensure the partition satisfies the median conditions: max(left) <= min(right).\n",
    "        4. Calculate the median from the border elements of the partition.\n",
    "        \n",
    "        \"\"\"\n",
    "\n",
    "        # Make sure nums1 is the smaller array to minimize the binary search range.\n",
    "        if len(nums1) > len(nums2):\n",
    "            nums1, nums2 = nums2, nums1\n",
    "\n",
    "        # Total length of the combined arrays\n",
    "        total_len = len(nums1) + len(nums2)\n",
    "        # Start and end pointers for binary search\n",
    "        start, end = 0, len(nums1)\n",
    "\n",
    "        while start <= end:\n",
    "            # Partition nums1 around the midpoint\n",
    "            partition_nums1 = (start + end) // 2\n",
    "            # Calculate partition for nums2 to split the combined array into two halves\n",
    "            partition_nums2 = (total_len + 1) // 2 - partition_nums1\n",
    "\n",
    "            # Find the border elements around the partition for nums1\n",
    "            max_left_nums1 = float('-inf') if partition_nums1 == 0 else nums1[partition_nums1 - 1]\n",
    "            min_right_nums1 = float('inf') if partition_nums1 == len(nums1) else nums1[partition_nums1]\n",
    "\n",
    "            # Find the border elements around the partition for nums2\n",
    "            max_left_nums2 = float('-inf') if partition_nums2 == 0 else nums2[partition_nums2 - 1]\n",
    "            min_right_nums2 = float('inf') if partition_nums2 == len(nums2) else nums2[partition_nums2]\n",
    "\n",
    "            # Check if the current partitions are correct\n",
    "            if max_left_nums1 <= min_right_nums2 and max_left_nums2 <= min_right_nums1:\n",
    "                # If the total length is odd, return the larger of the two left values\n",
    "                if total_len % 2:\n",
    "                    return max(max_left_nums1, max_left_nums2)\n",
    "                # If the total length is even, return the average of the four border elements\n",
    "                return (max(max_left_nums1, max_left_nums2) + min(min_right_nums1, min_right_nums2)) / 2\n",
    "            # If the left element of nums1 is greater than the right element of nums2, move the partition left\n",
    "            elif max_left_nums1 > min_right_nums2:\n",
    "                end = partition_nums1 - 1\n",
    "            # Otherwise, move the partition right\n",
    "            else:\n",
    "                start = partition_nums1 + 1\n",
    "\n",
    "        # If the method has not returned before this point, the input arrays were not sorted as per the problem's statement\n",
    "        raise ValueError(\"Input arrays are not sorted as expected. Please check the input.\")\n"
   ]
  },
  {
   "cell_type": "code",
   "execution_count": 15,
   "id": "a7b16459-a11b-4f0d-87d5-4cbe37729dfa",
   "metadata": {
    "tags": []
   },
   "outputs": [
    {
     "name": "stdout",
     "output_type": "stream",
     "text": [
      "Test Case 1: The median is 2\n",
      "Test Case 2: The median is 2.5\n",
      "Test Case 3: The median is 1\n",
      "Test Case 4: The median is -1\n"
     ]
    }
   ],
   "source": [
    "# Sample run with test cases\n",
    "test_case_1 = findMedianSortedArrays([1, 3], [2])\n",
    "test_case_2 = findMedianSortedArrays([1, 2], [3, 4])\n",
    "test_case_3 = findMedianSortedArrays([], [1])\n",
    "test_case_4 = findMedianSortedArrays([3], [-2, -1])\n",
    "\n",
    "print(\"Test Case 1: The median is\", test_case_1)\n",
    "print(\"Test Case 2: The median is\", test_case_2)\n",
    "print(\"Test Case 3: The median is\", test_case_3)\n",
    "print(\"Test Case 4: The median is\", test_case_4)"
   ]
  },
  {
   "cell_type": "markdown",
   "id": "978c8cae-61cc-46e3-908f-91eab0e10c1f",
   "metadata": {
    "tags": []
   },
   "source": [
    "- Testing it on Examples Provided in Screeshot:"
   ]
  },
  {
   "cell_type": "code",
   "execution_count": 16,
   "id": "b4861db2-663a-407d-8e23-152046ccc7c2",
   "metadata": {
    "tags": []
   },
   "outputs": [],
   "source": [
    "test_case_5 = findMedianSortedArrays([1, 2], [3,4])"
   ]
  },
  {
   "cell_type": "code",
   "execution_count": 17,
   "id": "18ae885e-1948-43c4-874e-84cba8fddc34",
   "metadata": {
    "tags": []
   },
   "outputs": [
    {
     "name": "stdout",
     "output_type": "stream",
     "text": [
      "Test Case 5: The median is 2.5\n"
     ]
    }
   ],
   "source": [
    "print(\"Test Case 5: The median is\", test_case_5)"
   ]
  },
  {
   "cell_type": "code",
   "execution_count": 18,
   "id": "a32f4d90-096d-48dc-a9c6-e39c0e00aefd",
   "metadata": {
    "tags": []
   },
   "outputs": [],
   "source": [
    "test_case_6 = findMedianSortedArrays([1, 3], [2])"
   ]
  },
  {
   "cell_type": "code",
   "execution_count": 19,
   "id": "8d48abdf-f3e4-4d81-ac69-1f0ba355479b",
   "metadata": {
    "tags": []
   },
   "outputs": [
    {
     "name": "stdout",
     "output_type": "stream",
     "text": [
      "Test Case 6: The median is 2\n"
     ]
    }
   ],
   "source": [
    "print(\"Test Case 6: The median is\", test_case_6)"
   ]
  },
  {
   "cell_type": "markdown",
   "id": "2153321d-516e-4d0c-b76c-d400989c931c",
   "metadata": {
    "tags": []
   },
   "source": [
    "# Summary\n",
    "\n",
    "## Algorithm Summary\n",
    "\n",
    "- The algorithm employs a binary search on the smaller of the two arrays to achieve a time complexity of O(log(min(m, n))), where `m` and `n` represent the lengths of the arrays.\n",
    "- This binary search aims to find a partition that divides the combined elements of both arrays into two equal-length halves, or with one additional element on the left if the total number of elements is odd.\n",
    "- A partition is deemed correct when the largest element on the left is smaller than or equal to the smallest element on the right across both arrays.\n",
    "- Upon finding the correct partition, the median is calculated based on the total number of elements. For an odd total, the median is the largest left-side element. For an even total, it is the average of the largest left-side element and the smallest right-side element.\n",
    "\n",
    "## Code Implementation\n",
    "\n",
    "- The solution is encapsulated within a `Solution` class, featuring a `findMedianSortedArrays` method. This design promotes reusability and facilitates testing with various inputs.\n",
    "- Type annotations enhance the code's readability and reliability by clearly specifying the types of inputs and outputs.\n",
    "- Extensive comments are provided to explain each algorithm step, clarifying the logic and intentions behind the code.\n",
    "- Error handling is implemented through a `ValueError` raised if the input arrays are found to be unsorted, ensuring the binary search operates correctly under its required precondition.\n",
    "\n",
    "## Use Case\n",
    "\n",
    "This algorithm is invaluable in scenarios involving large datasets where efficiency is paramount. It is well-suited for large-scale data processing, database management, and real-time median calculations in streaming data contexts, where quick and efficient median determinations are crucial.\n"
   ]
  },
  {
   "cell_type": "code",
   "execution_count": null,
   "id": "320a6afb-144b-4dbf-a6a1-5cc3c596b55e",
   "metadata": {},
   "outputs": [],
   "source": []
  }
 ],
 "metadata": {
  "kernelspec": {
   "display_name": "Python 3 (ipykernel)",
   "language": "python",
   "name": "python3"
  },
  "language_info": {
   "codemirror_mode": {
    "name": "ipython",
    "version": 3
   },
   "file_extension": ".py",
   "mimetype": "text/x-python",
   "name": "python",
   "nbconvert_exporter": "python",
   "pygments_lexer": "ipython3",
   "version": "3.11.4"
  }
 },
 "nbformat": 4,
 "nbformat_minor": 5
}
